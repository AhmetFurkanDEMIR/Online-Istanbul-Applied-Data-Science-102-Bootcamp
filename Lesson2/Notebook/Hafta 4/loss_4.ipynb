{
 "cells": [
  {
   "cell_type": "markdown",
   "metadata": {},
   "source": [
    "**This notebook belongs to Engin Deniz ALPMAN.**"
   ]
  },
  {
   "cell_type": "code",
   "execution_count": 1,
   "metadata": {},
   "outputs": [],
   "source": [
    "import torch\n",
    "import torch.nn as nn\n",
    "from PIL import Image\n",
    "from pathlib import Path\n",
    "import numpy as np\n",
    "from matplotlib import pyplot as plt"
   ]
  },
  {
   "cell_type": "code",
   "execution_count": 2,
   "metadata": {},
   "outputs": [],
   "source": [
    "import os"
   ]
  },
  {
   "cell_type": "code",
   "execution_count": 3,
   "metadata": {},
   "outputs": [],
   "source": [
    "import math"
   ]
  },
  {
   "cell_type": "code",
   "execution_count": 4,
   "metadata": {},
   "outputs": [],
   "source": [
    "PATH= Path('data/mnist/')"
   ]
  },
  {
   "cell_type": "code",
   "execution_count": 5,
   "metadata": {},
   "outputs": [],
   "source": [
    "Path.ls = lambda x: list(x.iterdir())"
   ]
  },
  {
   "cell_type": "code",
   "execution_count": 6,
   "metadata": {},
   "outputs": [],
   "source": [
    "class Dataset():\n",
    "    def __init__(self, x, y): \n",
    "        self.x,self.y = x,y\n",
    "    def __len__(self): \n",
    "        return len(self.x)\n",
    "    def __getitem__(self, i): \n",
    "        return self.x[i],self.y[i]"
   ]
  },
  {
   "cell_type": "code",
   "execution_count": 7,
   "metadata": {},
   "outputs": [],
   "source": [
    "class DataLoader():\n",
    "    def __init__(self, ds, bs): \n",
    "        self.ds, self.bs = ds, bs\n",
    "    def __iter__(self):\n",
    "        n = len(self.ds)\n",
    "        l = torch.randperm(n)\n",
    "\n",
    "        \n",
    "        for i in range(0, n, self.bs): \n",
    "            idxs_l = l[i:i+self.bs]\n",
    "            yield self.ds[idxs_l]"
   ]
  },
  {
   "cell_type": "code",
   "execution_count": 8,
   "metadata": {},
   "outputs": [],
   "source": [
    "def init(size):\n",
    "    return torch.randn(size, dtype=torch.float32).requires_grad_()"
   ]
  },
  {
   "cell_type": "code",
   "execution_count": 9,
   "metadata": {},
   "outputs": [],
   "source": [
    "def linear_layer(xb):\n",
    "    return xb @ w + b"
   ]
  },
  {
   "cell_type": "code",
   "execution_count": 30,
   "metadata": {},
   "outputs": [],
   "source": [
    "def accuracy(preds, actuals):\n",
    "    preds = preds.sigmoid()\n",
    "    return ((preds > 0.5) == actuals).float().mean()"
   ]
  },
  {
   "cell_type": "code",
   "execution_count": 11,
   "metadata": {},
   "outputs": [],
   "source": [
    "def validation_acc(model):\n",
    "    return torch.stack([accuracy(model(xb), yb) for xb, yb in valid_dl]).mean().item()"
   ]
  },
  {
   "cell_type": "code",
   "execution_count": 31,
   "metadata": {},
   "outputs": [],
   "source": [
    "def loss_func(preds, targets):\n",
    "    preds = preds.sigmoid()\n",
    "    return torch.where(targets==1, 1-preds, preds).mean()"
   ]
  },
  {
   "cell_type": "code",
   "execution_count": 13,
   "metadata": {},
   "outputs": [],
   "source": [
    "# params is list of variables that our model will update\n",
    "def train(model, params, lr, epochs=5, valid_epoch=5):\n",
    "    for epoch in range(epochs):\n",
    "        for xb, yb in train_dl:\n",
    "            preds = model(xb)\n",
    "            loss = loss_func(preds, yb)\n",
    "            loss.backward()\n",
    "            for p in params:\n",
    "                p.data = p.data - p.grad * lr\n",
    "                p.grad.zero_()\n",
    "        \n",
    "        if epoch % valid_epoch == 0:\n",
    "            print(validation_acc(model))\n",
    "        "
   ]
  },
  {
   "cell_type": "code",
   "execution_count": 14,
   "metadata": {},
   "outputs": [],
   "source": [
    "train_3 = torch.stack([torch.tensor(np.array(Image.open(img)), dtype = torch.float32) for img in (PATH/\"train/3\").ls()]) / 255"
   ]
  },
  {
   "cell_type": "code",
   "execution_count": 15,
   "metadata": {},
   "outputs": [],
   "source": [
    "train_2 = torch.stack([torch.tensor(np.array(Image.open(img)), dtype = torch.float32) for img in (PATH/\"train/2\").ls()]) / 255"
   ]
  },
  {
   "cell_type": "code",
   "execution_count": 16,
   "metadata": {},
   "outputs": [],
   "source": [
    "valid_3 = torch.stack([torch.tensor(np.array(Image.open(img)), dtype = torch.float32) for img in (PATH/\"validation/3\").ls()]) / 255"
   ]
  },
  {
   "cell_type": "code",
   "execution_count": 17,
   "metadata": {},
   "outputs": [],
   "source": [
    "valid_2 = torch.stack([torch.tensor(np.array(Image.open(img)), dtype = torch.float32) for img in (PATH/\"validation/2\").ls()]) / 255"
   ]
  },
  {
   "cell_type": "code",
   "execution_count": 18,
   "metadata": {},
   "outputs": [],
   "source": [
    "train_x = torch.cat([train_3, train_2]).view(-1, 28*28)"
   ]
  },
  {
   "cell_type": "code",
   "execution_count": 19,
   "metadata": {},
   "outputs": [],
   "source": [
    "train_y = torch.tensor([1] * len(train_3) + [0] * len(train_2))"
   ]
  },
  {
   "cell_type": "code",
   "execution_count": 20,
   "metadata": {},
   "outputs": [],
   "source": [
    "valid_x = torch.cat([valid_3, valid_2]).view(-1, 28*28)"
   ]
  },
  {
   "cell_type": "code",
   "execution_count": 21,
   "metadata": {},
   "outputs": [],
   "source": [
    "valid_y = torch.tensor([1] * len(valid_3) + [0] * len(valid_2))"
   ]
  },
  {
   "cell_type": "code",
   "execution_count": 22,
   "metadata": {},
   "outputs": [],
   "source": [
    "train_y = train_y.unsqueeze(1)"
   ]
  },
  {
   "cell_type": "code",
   "execution_count": 23,
   "metadata": {},
   "outputs": [],
   "source": [
    "valid_y = valid_y.unsqueeze(1)"
   ]
  },
  {
   "cell_type": "code",
   "execution_count": 24,
   "metadata": {},
   "outputs": [],
   "source": [
    "ds_train = Dataset(train_x, train_y)"
   ]
  },
  {
   "cell_type": "code",
   "execution_count": 25,
   "metadata": {},
   "outputs": [],
   "source": [
    "ds_valid = Dataset(valid_x, valid_y)"
   ]
  },
  {
   "cell_type": "code",
   "execution_count": 26,
   "metadata": {},
   "outputs": [],
   "source": [
    "train_dl = DataLoader(ds_train, bs = 512)"
   ]
  },
  {
   "cell_type": "code",
   "execution_count": 27,
   "metadata": {},
   "outputs": [],
   "source": [
    "valid_dl = DataLoader(ds_valid, bs = 512)"
   ]
  },
  {
   "cell_type": "code",
   "execution_count": 28,
   "metadata": {},
   "outputs": [],
   "source": [
    "w = init((28*28,1))\n",
    "b = init(1)\n",
    "lr = 1\n",
    "params = w, b"
   ]
  },
  {
   "cell_type": "code",
   "execution_count": 32,
   "metadata": {},
   "outputs": [
    {
     "name": "stdout",
     "output_type": "stream",
     "text": [
      "0.960156261920929\n",
      "0.9515625238418579\n",
      "0.960156261920929\n",
      "0.9644531011581421\n",
      "0.959765613079071\n",
      "0.9664062261581421\n",
      "0.962890625\n",
      "0.965624988079071\n",
      "0.9644531011581421\n",
      "0.962109386920929\n",
      "0.9671875238418579\n",
      "0.9613281488418579\n",
      "0.961718738079071\n",
      "0.962890625\n",
      "0.9683593511581421\n"
     ]
    }
   ],
   "source": [
    "train(linear_layer, params, lr=1, epochs= 30, valid_epoch=2)"
   ]
  },
  {
   "cell_type": "code",
   "execution_count": null,
   "metadata": {},
   "outputs": [],
   "source": []
  }
 ],
 "metadata": {
  "kernelspec": {
   "display_name": "Python 3",
   "language": "python",
   "name": "python3"
  },
  "language_info": {
   "codemirror_mode": {
    "name": "ipython",
    "version": 3
   },
   "file_extension": ".py",
   "mimetype": "text/x-python",
   "name": "python",
   "nbconvert_exporter": "python",
   "pygments_lexer": "ipython3",
   "version": "3.7.3"
  }
 },
 "nbformat": 4,
 "nbformat_minor": 2
}
