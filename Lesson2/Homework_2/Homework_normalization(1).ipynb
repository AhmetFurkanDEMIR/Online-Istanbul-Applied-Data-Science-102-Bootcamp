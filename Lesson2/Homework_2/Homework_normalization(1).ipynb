{
 "cells": [
  {
   "cell_type": "markdown",
   "metadata": {},
   "source": [
    "* **Write the normalization code separately where we feed the filtered and raw image state into the model**"
   ]
  },
  {
   "cell_type": "code",
   "execution_count": 1,
   "metadata": {},
   "outputs": [
    {
     "name": "stdout",
     "output_type": "stream",
     "text": [
      "train/0\n",
      "train/1\n",
      "train/2\n",
      "train/3\n",
      "train/4\n",
      "train/5\n",
      "train/6\n",
      "train/7\n",
      "train/8\n",
      "train/9\n",
      "validation/0\n",
      "validation/1\n",
      "validation/2\n",
      "validation/3\n",
      "validation/4\n",
      "validation/5\n",
      "validation/6\n",
      "validation/7\n",
      "validation/8\n",
      "validation/9\n"
     ]
    }
   ],
   "source": [
    "import torch\n",
    "import torch.nn as nn\n",
    "from PIL import Image\n",
    "from pathlib import Path\n",
    "import numpy as np\n",
    "from matplotlib import pyplot as plt\n",
    "\n",
    "import os\n",
    "import math\n",
    "import torch.nn.functional as F\n",
    "\n",
    "PATH= Path(\"\")\n",
    "\n",
    "kernel = np.array([-1,1])\n",
    "\n",
    "def conv(img, kernel):\n",
    "    \n",
    "    out = np.zeros(img.shape)\n",
    "    img = np.pad(img,[(0, 0), (0, 1)],\"edge\") # This will do the padding for not to reduce size\n",
    "    \n",
    "    for i in range(img.shape[0]):\n",
    "    \n",
    "        for j in range(img.shape[1]-1):\n",
    "            out[i][j] = abs((img[i][j:j+2] * kernel).sum())\n",
    "    \n",
    "    return out\n",
    "\n",
    "\n",
    "def _get_files(p, fs, extensions = None):\n",
    "    p = Path(p) # to support / notation\n",
    "    res = [p/f for f in fs if not f.startswith(\".\") \n",
    "           and ((not extensions) or f'.{f.split(\".\")[-1].lower()}' in extensions)]\n",
    "    return res\n",
    "\n",
    "\n",
    "def create_ds_from_file(src):\n",
    "    imgs, labels = [], []\n",
    "    \n",
    "    for label in range(10):\n",
    "        path = src/str(label)\n",
    "        print(path)\n",
    "        t = [o.name for o in os.scandir(path)]\n",
    "        t = _get_files(path, t, extensions = [\".jpg\", \".png\"])\n",
    "        for e in t:\n",
    "            img = np.array(Image.open(e))\n",
    "            l = [np.concatenate((conv(img, kernel).reshape(-1), img.reshape(-1)))]\n",
    "            imgs += l\n",
    "        labels += ([label] * len(t))\n",
    "    return torch.tensor(imgs,  dtype=torch.float32), torch.tensor(labels, dtype=torch.long).view(-1,1)\n",
    "\n",
    "trn_x, trn_y = create_ds_from_file(PATH/\"train\")\n",
    "val_x,val_y = create_ds_from_file(PATH/\"validation\")"
   ]
  },
  {
   "cell_type": "code",
   "execution_count": 2,
   "metadata": {},
   "outputs": [
    {
     "data": {
      "text/plain": [
       "(tensor(18.2785), tensor(44.2487), tensor(-3.8307e-07), tensor(1.))"
      ]
     },
     "execution_count": 2,
     "metadata": {},
     "output_type": "execute_result"
    }
   ],
   "source": [
    "# From 0 to 784 pixels, I calculated the standard deviation of the first images and assign them to the first images.\n",
    "\n",
    "mean = trn_x[:,0:784].mean()\n",
    "std = trn_x[:,0:784].std()\n",
    "\n",
    "trn_x[:,0:784]=(trn_x[:,0:784]-mean)/std\n",
    "mean, std, trn_x[:,0:784].mean(), trn_x[:,0:784].std()"
   ]
  },
  {
   "cell_type": "code",
   "execution_count": 3,
   "metadata": {},
   "outputs": [
    {
     "data": {
      "text/plain": [
       "(tensor(34.3409), tensor(77.5014), tensor(8.3876e-08), tensor(1.))"
      ]
     },
     "execution_count": 3,
     "metadata": {},
     "output_type": "execute_result"
    }
   ],
   "source": [
    "# From 784 to 1568 pixels, I calculated the standard deviation of the second images and assign them to the second images.\n",
    "\n",
    "mean = trn_x[:,784:1568].mean()\n",
    "std = trn_x[:,784:1568].std()\n",
    "\n",
    "trn_x[:,784:1568]=(trn_x[:,784:1568]-mean)/std\n",
    "mean, std, trn_x[:,784:1568].mean(), trn_x[:,784:1568].std()"
   ]
  },
  {
   "cell_type": "code",
   "execution_count": 4,
   "metadata": {},
   "outputs": [
    {
     "data": {
      "image/png": "[encoded data removed]",
      "text/plain": [
       "<Figure size 432x288 with 1 Axes>"
      ]
     },
     "metadata": {
      "needs_background": "light"
     },
     "output_type": "display_data"
    }
   ],
   "source": [
    "plt.imshow(trn_x[20000].view(56,28), cmap = \"gray\");"
   ]
  },
  {
   "cell_type": "code",
   "execution_count": 5,
   "metadata": {},
   "outputs": [
    {
     "data": {
      "text/plain": [
       "(tensor(18.4118), tensor(44.3455), tensor(-2.3563e-07), tensor(1.))"
      ]
     },
     "execution_count": 5,
     "metadata": {},
     "output_type": "execute_result"
    }
   ],
   "source": [
    "# From 0 to 784 pixels, I calculated the standard deviation of the first images and assign them to the first images.\n",
    "\n",
    "mean = val_x[:,0:784].mean()\n",
    "std = val_x[:,0:784].std()\n",
    "\n",
    "val_x[:,0:784]=(val_x[:,0:784]-mean)/std\n",
    "mean, std, val_x[:,0:784].mean(), val_x[:,0:784].std()"
   ]
  },
  {
   "cell_type": "code",
   "execution_count": 6,
   "metadata": {},
   "outputs": [
    {
     "data": {
      "text/plain": [
       "(tensor(34.6677), tensor(77.7978), tensor(-3.9835e-07), tensor(1.))"
      ]
     },
     "execution_count": 6,
     "metadata": {},
     "output_type": "execute_result"
    }
   ],
   "source": [
    "# From 784 to 1568 pixels, I calculated the standard deviation of the second images and assign them to the second images.\n",
    "\n",
    "mean = val_x[:,784:1568].mean()\n",
    "std = val_x[:,784:1568].std()\n",
    "\n",
    "val_x[:,784:1568]=(val_x[:,784:1568]-mean)/std\n",
    "mean, std, val_x[:,784:1568].mean(), val_x[:,784:1568].std()"
   ]
  },
  {
   "cell_type": "code",
   "execution_count": 7,
   "metadata": {},
   "outputs": [
    {
     "data": {
      "image/png": "[encoded data removed]",
      "text/plain": [
       "<Figure size 432x288 with 1 Axes>"
      ]
     },
     "metadata": {
      "needs_background": "light"
     },
     "output_type": "display_data"
    }
   ],
   "source": [
    "plt.imshow(val_x[3000].view(56,28), cmap = \"gray\");"
   ]
  }
 ],
 "metadata": {
  "kernelspec": {
   "display_name": "Python 3",
   "language": "python",
   "name": "python3"
  },
  "language_info": {
   "codemirror_mode": {
    "name": "ipython",
    "version": 3
   },
   "file_extension": ".py",
   "mimetype": "text/x-python",
   "name": "python",
   "nbconvert_exporter": "python",
   "pygments_lexer": "ipython3",
   "version": "3.7.3"
  }
 },
 "nbformat": 4,
 "nbformat_minor": 4
}
